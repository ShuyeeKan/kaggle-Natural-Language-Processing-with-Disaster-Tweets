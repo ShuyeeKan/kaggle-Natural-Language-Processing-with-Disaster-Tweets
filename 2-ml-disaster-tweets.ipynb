{
 "cells": [
  {
   "cell_type": "markdown",
   "id": "d28a31ac",
   "metadata": {
    "papermill": {
     "duration": 0.007551,
     "end_time": "2024-03-14T07:28:23.094499",
     "exception": false,
     "start_time": "2024-03-14T07:28:23.086948",
     "status": "completed"
    },
    "tags": []
   },
   "source": [
    "# Introduction\n",
    "This file is to construct and train three machine learning models to classify the disaster tweets, such as XGBoost, SVM, Ransom Forest. Evaluate the performance with validation accuracy. Finally, get the prediction on test set."
   ]
  },
  {
   "cell_type": "code",
   "execution_count": 1,
   "id": "75bd2715",
   "metadata": {
    "execution": {
     "iopub.execute_input": "2024-03-14T07:28:23.111151Z",
     "iopub.status.busy": "2024-03-14T07:28:23.110732Z",
     "iopub.status.idle": "2024-03-14T07:28:23.978361Z",
     "shell.execute_reply": "2024-03-14T07:28:23.977414Z"
    },
    "papermill": {
     "duration": 0.879331,
     "end_time": "2024-03-14T07:28:23.980992",
     "exception": false,
     "start_time": "2024-03-14T07:28:23.101661",
     "status": "completed"
    },
    "tags": []
   },
   "outputs": [],
   "source": [
    "import numpy as np\n",
    "import pandas as pd\n",
    "import matplotlib.pyplot as plt\n",
    "import warnings\n",
    "\n",
    "warnings.filterwarnings(\"ignore\")"
   ]
  },
  {
   "cell_type": "markdown",
   "id": "17fefc93",
   "metadata": {
    "papermill": {
     "duration": 0.006858,
     "end_time": "2024-03-14T07:28:23.995006",
     "exception": false,
     "start_time": "2024-03-14T07:28:23.988148",
     "status": "completed"
    },
    "tags": []
   },
   "source": [
    "# 1. Load dataset\n",
    "\n",
    "Upload the preprocessed data:\n",
    "* data_e: preprocessed with TreebankWordTokenizer\n",
    "* data_u: preprocessed with WordPunctTokenizer\n",
    "* data_s: preprocessed with WhitespaceTokenizer\n"
   ]
  },
  {
   "cell_type": "code",
   "execution_count": 2,
   "id": "03e7caa2",
   "metadata": {
    "execution": {
     "iopub.execute_input": "2024-03-14T07:28:24.011233Z",
     "iopub.status.busy": "2024-03-14T07:28:24.010712Z",
     "iopub.status.idle": "2024-03-14T07:28:27.394918Z",
     "shell.execute_reply": "2024-03-14T07:28:27.393357Z"
    },
    "papermill": {
     "duration": 3.395165,
     "end_time": "2024-03-14T07:28:27.397196",
     "exception": false,
     "start_time": "2024-03-14T07:28:24.002031",
     "status": "completed"
    },
    "tags": []
   },
   "outputs": [
    {
     "name": "stdout",
     "output_type": "stream",
     "text": [
      "Training set shape = (7613, 5)\n",
      "Data_e shape = (7613, 300)\n",
      "Data_u shape = (7613, 300)\n",
      "Data_s shape = (7613, 300)\n"
     ]
    }
   ],
   "source": [
    "# Upload training set\n",
    "df_train = pd.read_csv('/kaggle/input/nlp-getting-started/train.csv')\n",
    "data_e = pd.read_csv('/kaggle/input/disaster-tweets-3-tokenizers-data-trainset/data_e.csv').iloc[:,1:]\n",
    "data_u = pd.read_csv('/kaggle/input/disaster-tweets-3-tokenizers-data-trainset/data_u.csv').iloc[:,1:]\n",
    "data_s = pd.read_csv('/kaggle/input/disaster-tweets-3-tokenizers-data-trainset/data_s.csv').iloc[:,1:]\n",
    "print('Training set shape = {}'.format(df_train.shape))\n",
    "print('Data_e shape = {}'.format(data_e.shape))\n",
    "print('Data_u shape = {}'.format(data_u.shape))\n",
    "print('Data_s shape = {}'.format(data_s.shape))"
   ]
  },
  {
   "cell_type": "code",
   "execution_count": 3,
   "id": "fc5923fa",
   "metadata": {
    "execution": {
     "iopub.execute_input": "2024-03-14T07:28:27.414306Z",
     "iopub.status.busy": "2024-03-14T07:28:27.413335Z",
     "iopub.status.idle": "2024-03-14T07:28:27.448488Z",
     "shell.execute_reply": "2024-03-14T07:28:27.447292Z"
    },
    "papermill": {
     "duration": 0.046385,
     "end_time": "2024-03-14T07:28:27.451116",
     "exception": false,
     "start_time": "2024-03-14T07:28:27.404731",
     "status": "completed"
    },
    "tags": []
   },
   "outputs": [
    {
     "data": {
      "text/html": [
       "<div>\n",
       "<style scoped>\n",
       "    .dataframe tbody tr th:only-of-type {\n",
       "        vertical-align: middle;\n",
       "    }\n",
       "\n",
       "    .dataframe tbody tr th {\n",
       "        vertical-align: top;\n",
       "    }\n",
       "\n",
       "    .dataframe thead th {\n",
       "        text-align: right;\n",
       "    }\n",
       "</style>\n",
       "<table border=\"1\" class=\"dataframe\">\n",
       "  <thead>\n",
       "    <tr style=\"text-align: right;\">\n",
       "      <th></th>\n",
       "      <th>0</th>\n",
       "      <th>1</th>\n",
       "      <th>2</th>\n",
       "      <th>3</th>\n",
       "      <th>4</th>\n",
       "      <th>5</th>\n",
       "      <th>6</th>\n",
       "      <th>7</th>\n",
       "      <th>8</th>\n",
       "      <th>9</th>\n",
       "      <th>...</th>\n",
       "      <th>290</th>\n",
       "      <th>291</th>\n",
       "      <th>292</th>\n",
       "      <th>293</th>\n",
       "      <th>294</th>\n",
       "      <th>295</th>\n",
       "      <th>296</th>\n",
       "      <th>297</th>\n",
       "      <th>298</th>\n",
       "      <th>299</th>\n",
       "    </tr>\n",
       "  </thead>\n",
       "  <tbody>\n",
       "    <tr>\n",
       "      <th>0</th>\n",
       "      <td>0.264460</td>\n",
       "      <td>3.473010</td>\n",
       "      <td>0.761659</td>\n",
       "      <td>0.315691</td>\n",
       "      <td>0.662551</td>\n",
       "      <td>-1.912180</td>\n",
       "      <td>2.580655</td>\n",
       "      <td>4.118057</td>\n",
       "      <td>0.847140</td>\n",
       "      <td>-1.891551</td>\n",
       "      <td>...</td>\n",
       "      <td>3.153043</td>\n",
       "      <td>2.208856</td>\n",
       "      <td>0.243728</td>\n",
       "      <td>0.574112</td>\n",
       "      <td>2.463802</td>\n",
       "      <td>0.768590</td>\n",
       "      <td>0.674521</td>\n",
       "      <td>-1.420716</td>\n",
       "      <td>1.643735</td>\n",
       "      <td>-1.238555</td>\n",
       "    </tr>\n",
       "    <tr>\n",
       "      <th>1</th>\n",
       "      <td>0.454356</td>\n",
       "      <td>0.787967</td>\n",
       "      <td>0.138714</td>\n",
       "      <td>0.220362</td>\n",
       "      <td>0.347263</td>\n",
       "      <td>-0.696061</td>\n",
       "      <td>0.715638</td>\n",
       "      <td>1.655626</td>\n",
       "      <td>-0.384629</td>\n",
       "      <td>-0.721698</td>\n",
       "      <td>...</td>\n",
       "      <td>0.708280</td>\n",
       "      <td>0.178729</td>\n",
       "      <td>0.885802</td>\n",
       "      <td>0.738266</td>\n",
       "      <td>0.899161</td>\n",
       "      <td>0.205580</td>\n",
       "      <td>0.480304</td>\n",
       "      <td>0.126704</td>\n",
       "      <td>0.180366</td>\n",
       "      <td>0.216359</td>\n",
       "    </tr>\n",
       "    <tr>\n",
       "      <th>2</th>\n",
       "      <td>1.074851</td>\n",
       "      <td>5.292600</td>\n",
       "      <td>1.172777</td>\n",
       "      <td>0.371113</td>\n",
       "      <td>1.242576</td>\n",
       "      <td>-3.009737</td>\n",
       "      <td>3.641786</td>\n",
       "      <td>6.690299</td>\n",
       "      <td>0.907105</td>\n",
       "      <td>-3.002192</td>\n",
       "      <td>...</td>\n",
       "      <td>4.649509</td>\n",
       "      <td>3.128608</td>\n",
       "      <td>1.121437</td>\n",
       "      <td>1.034403</td>\n",
       "      <td>3.782247</td>\n",
       "      <td>1.570376</td>\n",
       "      <td>1.049793</td>\n",
       "      <td>-1.921467</td>\n",
       "      <td>2.092391</td>\n",
       "      <td>-1.225991</td>\n",
       "    </tr>\n",
       "    <tr>\n",
       "      <th>3</th>\n",
       "      <td>1.065566</td>\n",
       "      <td>0.773542</td>\n",
       "      <td>0.235014</td>\n",
       "      <td>0.290001</td>\n",
       "      <td>0.024616</td>\n",
       "      <td>-0.736450</td>\n",
       "      <td>0.586556</td>\n",
       "      <td>1.881241</td>\n",
       "      <td>-0.522909</td>\n",
       "      <td>-0.525850</td>\n",
       "      <td>...</td>\n",
       "      <td>0.599248</td>\n",
       "      <td>0.090778</td>\n",
       "      <td>1.347611</td>\n",
       "      <td>0.916898</td>\n",
       "      <td>0.504712</td>\n",
       "      <td>0.234964</td>\n",
       "      <td>0.506515</td>\n",
       "      <td>0.239537</td>\n",
       "      <td>0.102038</td>\n",
       "      <td>0.151526</td>\n",
       "    </tr>\n",
       "    <tr>\n",
       "      <th>4</th>\n",
       "      <td>0.647733</td>\n",
       "      <td>4.389930</td>\n",
       "      <td>0.953624</td>\n",
       "      <td>-0.117358</td>\n",
       "      <td>1.129375</td>\n",
       "      <td>-1.613834</td>\n",
       "      <td>2.861328</td>\n",
       "      <td>4.224875</td>\n",
       "      <td>0.716666</td>\n",
       "      <td>-2.607706</td>\n",
       "      <td>...</td>\n",
       "      <td>3.501758</td>\n",
       "      <td>2.284597</td>\n",
       "      <td>0.510159</td>\n",
       "      <td>1.202372</td>\n",
       "      <td>3.645951</td>\n",
       "      <td>1.903817</td>\n",
       "      <td>1.352194</td>\n",
       "      <td>-1.624802</td>\n",
       "      <td>1.419347</td>\n",
       "      <td>-0.541357</td>\n",
       "    </tr>\n",
       "  </tbody>\n",
       "</table>\n",
       "<p>5 rows × 300 columns</p>\n",
       "</div>"
      ],
      "text/plain": [
       "          0         1         2         3         4         5         6  \\\n",
       "0  0.264460  3.473010  0.761659  0.315691  0.662551 -1.912180  2.580655   \n",
       "1  0.454356  0.787967  0.138714  0.220362  0.347263 -0.696061  0.715638   \n",
       "2  1.074851  5.292600  1.172777  0.371113  1.242576 -3.009737  3.641786   \n",
       "3  1.065566  0.773542  0.235014  0.290001  0.024616 -0.736450  0.586556   \n",
       "4  0.647733  4.389930  0.953624 -0.117358  1.129375 -1.613834  2.861328   \n",
       "\n",
       "          7         8         9  ...       290       291       292       293  \\\n",
       "0  4.118057  0.847140 -1.891551  ...  3.153043  2.208856  0.243728  0.574112   \n",
       "1  1.655626 -0.384629 -0.721698  ...  0.708280  0.178729  0.885802  0.738266   \n",
       "2  6.690299  0.907105 -3.002192  ...  4.649509  3.128608  1.121437  1.034403   \n",
       "3  1.881241 -0.522909 -0.525850  ...  0.599248  0.090778  1.347611  0.916898   \n",
       "4  4.224875  0.716666 -2.607706  ...  3.501758  2.284597  0.510159  1.202372   \n",
       "\n",
       "        294       295       296       297       298       299  \n",
       "0  2.463802  0.768590  0.674521 -1.420716  1.643735 -1.238555  \n",
       "1  0.899161  0.205580  0.480304  0.126704  0.180366  0.216359  \n",
       "2  3.782247  1.570376  1.049793 -1.921467  2.092391 -1.225991  \n",
       "3  0.504712  0.234964  0.506515  0.239537  0.102038  0.151526  \n",
       "4  3.645951  1.903817  1.352194 -1.624802  1.419347 -0.541357  \n",
       "\n",
       "[5 rows x 300 columns]"
      ]
     },
     "execution_count": 3,
     "metadata": {},
     "output_type": "execute_result"
    }
   ],
   "source": [
    "data_e.head()"
   ]
  },
  {
   "cell_type": "code",
   "execution_count": 4,
   "id": "cd47f320",
   "metadata": {
    "execution": {
     "iopub.execute_input": "2024-03-14T07:28:27.468535Z",
     "iopub.status.busy": "2024-03-14T07:28:27.468107Z",
     "iopub.status.idle": "2024-03-14T07:28:28.942252Z",
     "shell.execute_reply": "2024-03-14T07:28:28.941108Z"
    },
    "papermill": {
     "duration": 1.485639,
     "end_time": "2024-03-14T07:28:28.944706",
     "exception": false,
     "start_time": "2024-03-14T07:28:27.459067",
     "status": "completed"
    },
    "tags": []
   },
   "outputs": [
    {
     "name": "stdout",
     "output_type": "stream",
     "text": [
      "Test set shape = (3263, 4)\n",
      "Test_e shape = (3263, 300)\n",
      "Test_u shape = (3263, 300)\n",
      "Test_s shape = (3263, 300)\n"
     ]
    }
   ],
   "source": [
    "# Upload test set\n",
    "df_test = pd.read_csv('/kaggle/input/nlp-getting-started/test.csv')\n",
    "test_e = pd.read_csv('/kaggle/input/disaster-tweets-3-tokenizers-data-testset/test_e.csv').iloc[:,1:]\n",
    "test_u = pd.read_csv('/kaggle/input/disaster-tweets-3-tokenizers-data-testset/test_u.csv').iloc[:,1:]\n",
    "test_s = pd.read_csv('/kaggle/input/disaster-tweets-3-tokenizers-data-testset/test_s.csv').iloc[:,1:]\n",
    "print('Test set shape = {}'.format(df_test.shape))\n",
    "print('Test_e shape = {}'.format(test_e.shape))\n",
    "print('Test_u shape = {}'.format(test_u.shape))\n",
    "print('Test_s shape = {}'.format(test_s.shape))"
   ]
  },
  {
   "cell_type": "code",
   "execution_count": 5,
   "id": "010fed2c",
   "metadata": {
    "execution": {
     "iopub.execute_input": "2024-03-14T07:28:28.962964Z",
     "iopub.status.busy": "2024-03-14T07:28:28.961139Z",
     "iopub.status.idle": "2024-03-14T07:28:28.985563Z",
     "shell.execute_reply": "2024-03-14T07:28:28.984358Z"
    },
    "papermill": {
     "duration": 0.035985,
     "end_time": "2024-03-14T07:28:28.988398",
     "exception": false,
     "start_time": "2024-03-14T07:28:28.952413",
     "status": "completed"
    },
    "tags": []
   },
   "outputs": [
    {
     "data": {
      "text/html": [
       "<div>\n",
       "<style scoped>\n",
       "    .dataframe tbody tr th:only-of-type {\n",
       "        vertical-align: middle;\n",
       "    }\n",
       "\n",
       "    .dataframe tbody tr th {\n",
       "        vertical-align: top;\n",
       "    }\n",
       "\n",
       "    .dataframe thead th {\n",
       "        text-align: right;\n",
       "    }\n",
       "</style>\n",
       "<table border=\"1\" class=\"dataframe\">\n",
       "  <thead>\n",
       "    <tr style=\"text-align: right;\">\n",
       "      <th></th>\n",
       "      <th>0</th>\n",
       "      <th>1</th>\n",
       "      <th>2</th>\n",
       "      <th>3</th>\n",
       "      <th>4</th>\n",
       "      <th>5</th>\n",
       "      <th>6</th>\n",
       "      <th>7</th>\n",
       "      <th>8</th>\n",
       "      <th>9</th>\n",
       "      <th>...</th>\n",
       "      <th>290</th>\n",
       "      <th>291</th>\n",
       "      <th>292</th>\n",
       "      <th>293</th>\n",
       "      <th>294</th>\n",
       "      <th>295</th>\n",
       "      <th>296</th>\n",
       "      <th>297</th>\n",
       "      <th>298</th>\n",
       "      <th>299</th>\n",
       "    </tr>\n",
       "  </thead>\n",
       "  <tbody>\n",
       "    <tr>\n",
       "      <th>0</th>\n",
       "      <td>0.455360</td>\n",
       "      <td>1.044940</td>\n",
       "      <td>-0.143644</td>\n",
       "      <td>0.173743</td>\n",
       "      <td>0.817209</td>\n",
       "      <td>-1.277175</td>\n",
       "      <td>0.180766</td>\n",
       "      <td>2.494107</td>\n",
       "      <td>-0.062792</td>\n",
       "      <td>-0.942871</td>\n",
       "      <td>...</td>\n",
       "      <td>0.291104</td>\n",
       "      <td>1.723919</td>\n",
       "      <td>1.220648</td>\n",
       "      <td>0.806225</td>\n",
       "      <td>1.200969</td>\n",
       "      <td>1.679046</td>\n",
       "      <td>-0.290383</td>\n",
       "      <td>-0.292664</td>\n",
       "      <td>0.698769</td>\n",
       "      <td>-0.372825</td>\n",
       "    </tr>\n",
       "    <tr>\n",
       "      <th>1</th>\n",
       "      <td>0.552173</td>\n",
       "      <td>1.384795</td>\n",
       "      <td>-0.181273</td>\n",
       "      <td>0.248668</td>\n",
       "      <td>1.093150</td>\n",
       "      <td>-1.707483</td>\n",
       "      <td>0.241068</td>\n",
       "      <td>3.131648</td>\n",
       "      <td>-0.177715</td>\n",
       "      <td>-1.207477</td>\n",
       "      <td>...</td>\n",
       "      <td>0.412290</td>\n",
       "      <td>2.249743</td>\n",
       "      <td>1.602208</td>\n",
       "      <td>0.978127</td>\n",
       "      <td>1.681905</td>\n",
       "      <td>2.142224</td>\n",
       "      <td>-0.402567</td>\n",
       "      <td>-0.424773</td>\n",
       "      <td>0.888439</td>\n",
       "      <td>-0.539012</td>\n",
       "    </tr>\n",
       "    <tr>\n",
       "      <th>2</th>\n",
       "      <td>1.419791</td>\n",
       "      <td>3.321877</td>\n",
       "      <td>-0.339816</td>\n",
       "      <td>0.709381</td>\n",
       "      <td>2.346475</td>\n",
       "      <td>-4.144244</td>\n",
       "      <td>0.784629</td>\n",
       "      <td>7.569028</td>\n",
       "      <td>-0.525376</td>\n",
       "      <td>-2.808867</td>\n",
       "      <td>...</td>\n",
       "      <td>1.001628</td>\n",
       "      <td>5.405518</td>\n",
       "      <td>3.876095</td>\n",
       "      <td>2.219716</td>\n",
       "      <td>3.812833</td>\n",
       "      <td>5.163865</td>\n",
       "      <td>-0.740076</td>\n",
       "      <td>-0.906884</td>\n",
       "      <td>2.313758</td>\n",
       "      <td>-1.381910</td>\n",
       "    </tr>\n",
       "    <tr>\n",
       "      <th>3</th>\n",
       "      <td>0.073552</td>\n",
       "      <td>0.223336</td>\n",
       "      <td>-0.048306</td>\n",
       "      <td>0.006968</td>\n",
       "      <td>0.222985</td>\n",
       "      <td>-0.267433</td>\n",
       "      <td>-0.027384</td>\n",
       "      <td>0.494715</td>\n",
       "      <td>0.000084</td>\n",
       "      <td>-0.219715</td>\n",
       "      <td>...</td>\n",
       "      <td>0.075168</td>\n",
       "      <td>0.351434</td>\n",
       "      <td>0.238806</td>\n",
       "      <td>0.163392</td>\n",
       "      <td>0.302783</td>\n",
       "      <td>0.328907</td>\n",
       "      <td>-0.107120</td>\n",
       "      <td>-0.093252</td>\n",
       "      <td>0.092227</td>\n",
       "      <td>-0.074037</td>\n",
       "    </tr>\n",
       "    <tr>\n",
       "      <th>4</th>\n",
       "      <td>0.363019</td>\n",
       "      <td>0.864263</td>\n",
       "      <td>-0.171570</td>\n",
       "      <td>0.057936</td>\n",
       "      <td>0.824002</td>\n",
       "      <td>-1.103651</td>\n",
       "      <td>0.021395</td>\n",
       "      <td>2.169538</td>\n",
       "      <td>0.062125</td>\n",
       "      <td>-0.887464</td>\n",
       "      <td>...</td>\n",
       "      <td>0.285747</td>\n",
       "      <td>1.474492</td>\n",
       "      <td>1.016422</td>\n",
       "      <td>0.759059</td>\n",
       "      <td>1.107956</td>\n",
       "      <td>1.400724</td>\n",
       "      <td>-0.362764</td>\n",
       "      <td>-0.321442</td>\n",
       "      <td>0.509862</td>\n",
       "      <td>-0.270511</td>\n",
       "    </tr>\n",
       "  </tbody>\n",
       "</table>\n",
       "<p>5 rows × 300 columns</p>\n",
       "</div>"
      ],
      "text/plain": [
       "          0         1         2         3         4         5         6  \\\n",
       "0  0.455360  1.044940 -0.143644  0.173743  0.817209 -1.277175  0.180766   \n",
       "1  0.552173  1.384795 -0.181273  0.248668  1.093150 -1.707483  0.241068   \n",
       "2  1.419791  3.321877 -0.339816  0.709381  2.346475 -4.144244  0.784629   \n",
       "3  0.073552  0.223336 -0.048306  0.006968  0.222985 -0.267433 -0.027384   \n",
       "4  0.363019  0.864263 -0.171570  0.057936  0.824002 -1.103651  0.021395   \n",
       "\n",
       "          7         8         9  ...       290       291       292       293  \\\n",
       "0  2.494107 -0.062792 -0.942871  ...  0.291104  1.723919  1.220648  0.806225   \n",
       "1  3.131648 -0.177715 -1.207477  ...  0.412290  2.249743  1.602208  0.978127   \n",
       "2  7.569028 -0.525376 -2.808867  ...  1.001628  5.405518  3.876095  2.219716   \n",
       "3  0.494715  0.000084 -0.219715  ...  0.075168  0.351434  0.238806  0.163392   \n",
       "4  2.169538  0.062125 -0.887464  ...  0.285747  1.474492  1.016422  0.759059   \n",
       "\n",
       "        294       295       296       297       298       299  \n",
       "0  1.200969  1.679046 -0.290383 -0.292664  0.698769 -0.372825  \n",
       "1  1.681905  2.142224 -0.402567 -0.424773  0.888439 -0.539012  \n",
       "2  3.812833  5.163865 -0.740076 -0.906884  2.313758 -1.381910  \n",
       "3  0.302783  0.328907 -0.107120 -0.093252  0.092227 -0.074037  \n",
       "4  1.107956  1.400724 -0.362764 -0.321442  0.509862 -0.270511  \n",
       "\n",
       "[5 rows x 300 columns]"
      ]
     },
     "execution_count": 5,
     "metadata": {},
     "output_type": "execute_result"
    }
   ],
   "source": [
    "test_e.head()"
   ]
  },
  {
   "cell_type": "code",
   "execution_count": 6,
   "id": "e3c12857",
   "metadata": {
    "execution": {
     "iopub.execute_input": "2024-03-14T07:28:29.007969Z",
     "iopub.status.busy": "2024-03-14T07:28:29.006879Z",
     "iopub.status.idle": "2024-03-14T07:28:29.015339Z",
     "shell.execute_reply": "2024-03-14T07:28:29.014037Z"
    },
    "papermill": {
     "duration": 0.021227,
     "end_time": "2024-03-14T07:28:29.017467",
     "exception": false,
     "start_time": "2024-03-14T07:28:28.996240",
     "status": "completed"
    },
    "tags": []
   },
   "outputs": [
    {
     "name": "stdout",
     "output_type": "stream",
     "text": [
      "Labels shape = 7613\n"
     ]
    }
   ],
   "source": [
    "# get labels\n",
    "labels = df_train['target'].tolist()\n",
    "print('Labels shape = {}'.format(len(labels)))"
   ]
  },
  {
   "cell_type": "markdown",
   "id": "3b5e1c1f",
   "metadata": {
    "papermill": {
     "duration": 0.007554,
     "end_time": "2024-03-14T07:28:29.032827",
     "exception": false,
     "start_time": "2024-03-14T07:28:29.025273",
     "status": "completed"
    },
    "tags": []
   },
   "source": [
    "### Split training set into training set and validation set"
   ]
  },
  {
   "cell_type": "code",
   "execution_count": 7,
   "id": "576370dd",
   "metadata": {
    "execution": {
     "iopub.execute_input": "2024-03-14T07:28:29.054699Z",
     "iopub.status.busy": "2024-03-14T07:28:29.053828Z",
     "iopub.status.idle": "2024-03-14T07:28:30.395680Z",
     "shell.execute_reply": "2024-03-14T07:28:30.394514Z"
    },
    "papermill": {
     "duration": 1.357432,
     "end_time": "2024-03-14T07:28:30.398226",
     "exception": false,
     "start_time": "2024-03-14T07:28:29.040794",
     "status": "completed"
    },
    "tags": []
   },
   "outputs": [],
   "source": [
    "from sklearn.model_selection import train_test_split\n",
    "\n",
    "def dataset_split(data, labels):\n",
    "    # Split the data into train and test(valiation) sets\n",
    "    X_train, X_test, y_train, y_test = train_test_split(data, labels, test_size=0.2, random_state=42)\n",
    "\n",
    "    print('Features of training set: shape = {}'.format(X_train.shape))\n",
    "    print('Features of validation set: shape = {}'.format(X_test.shape))\n",
    "    print('Labels of training set: shape = {}'.format(len(y_train)))\n",
    "    print('Labels of validation set: shape = {}'.format(len(y_test)))\n",
    "    \n",
    "    return X_train, X_test, y_train, y_test"
   ]
  },
  {
   "cell_type": "markdown",
   "id": "36b8d115",
   "metadata": {
    "papermill": {
     "duration": 0.007814,
     "end_time": "2024-03-14T07:28:30.414248",
     "exception": false,
     "start_time": "2024-03-14T07:28:30.406434",
     "status": "completed"
    },
    "tags": []
   },
   "source": [
    "# 2 Machine learning models\n",
    "Here apply three classic machine learning models to classify the disaster tweets.\n",
    "* XGBoost\n",
    "* SVM\n",
    "* Random Forest"
   ]
  },
  {
   "cell_type": "code",
   "execution_count": 8,
   "id": "02f5cb76",
   "metadata": {
    "execution": {
     "iopub.execute_input": "2024-03-14T07:28:30.431632Z",
     "iopub.status.busy": "2024-03-14T07:28:30.431192Z",
     "iopub.status.idle": "2024-03-14T07:28:30.973904Z",
     "shell.execute_reply": "2024-03-14T07:28:30.972812Z"
    },
    "papermill": {
     "duration": 0.554608,
     "end_time": "2024-03-14T07:28:30.976604",
     "exception": false,
     "start_time": "2024-03-14T07:28:30.421996",
     "status": "completed"
    },
    "tags": []
   },
   "outputs": [],
   "source": [
    "# Define the models\n",
    "from xgboost import XGBClassifier\n",
    "from sklearn import svm\n",
    "from sklearn.ensemble import RandomForestClassifier as RFC"
   ]
  },
  {
   "cell_type": "code",
   "execution_count": 9,
   "id": "f98691f3",
   "metadata": {
    "execution": {
     "iopub.execute_input": "2024-03-14T07:28:30.994513Z",
     "iopub.status.busy": "2024-03-14T07:28:30.993991Z",
     "iopub.status.idle": "2024-03-14T07:30:37.425127Z",
     "shell.execute_reply": "2024-03-14T07:30:37.423943Z"
    },
    "papermill": {
     "duration": 126.442618,
     "end_time": "2024-03-14T07:30:37.427444",
     "exception": false,
     "start_time": "2024-03-14T07:28:30.984826",
     "status": "completed"
    },
    "tags": []
   },
   "outputs": [
    {
     "name": "stdout",
     "output_type": "stream",
     "text": [
      "11 0.7135214490385271\n"
     ]
    },
    {
     "data": {
      "image/png": "[encoded data removed]",
      "text/plain": [
       "<Figure size 2000x500 with 1 Axes>"
      ]
     },
     "metadata": {},
     "output_type": "display_data"
    }
   ],
   "source": [
    "# Determine main hyperparameters for three models\n",
    "from sklearn.model_selection import cross_val_score\n",
    "\n",
    "axisx = range(1, 101, 10)\n",
    "score1 = []\n",
    "for i in axisx:\n",
    "    reg = XGBClassifier(n_estimators=i, random_state=42)\n",
    "    score = cross_val_score(reg,data_e,labels,cv=5).mean()\n",
    "    score1.append(score)\n",
    "    \n",
    "print(axisx[score1.index(max(score1))],max(score1))\n",
    "plt.figure(figsize=[20,5])\n",
    "plt.plot(axisx,score1)\n",
    "plt.savefig('XGB_LearningCurve.png')\n",
    "plt.show()"
   ]
  },
  {
   "cell_type": "code",
   "execution_count": 10,
   "id": "8422dffb",
   "metadata": {
    "execution": {
     "iopub.execute_input": "2024-03-14T07:30:37.448504Z",
     "iopub.status.busy": "2024-03-14T07:30:37.447526Z",
     "iopub.status.idle": "2024-03-14T07:58:21.279245Z",
     "shell.execute_reply": "2024-03-14T07:58:21.277536Z"
    },
    "papermill": {
     "duration": 1663.845355,
     "end_time": "2024-03-14T07:58:21.282323",
     "exception": false,
     "start_time": "2024-03-14T07:30:37.436968",
     "status": "completed"
    },
    "tags": []
   },
   "outputs": [
    {
     "name": "stdout",
     "output_type": "stream",
     "text": [
      "0.7315142411193067 30.0\n"
     ]
    },
    {
     "data": {
      "image/png": "[encoded data removed]",
      "text/plain": [
       "<Figure size 2000x500 with 1 Axes>"
      ]
     },
     "metadata": {},
     "output_type": "display_data"
    }
   ],
   "source": [
    "score2 = []\n",
    "C_range = np.linspace(0.01,30,50)\n",
    "for i in C_range:\n",
    "    SVM = svm.SVC(C=i, random_state=42)\n",
    "    score = cross_val_score(SVM,data_e,labels,cv=5).mean()\n",
    "    score2.append(score)\n",
    "\n",
    "print(max(score2), C_range[score2.index(max(score2))])\n",
    "plt.figure(figsize=[20,5])\n",
    "plt.plot(C_range,score2)\n",
    "plt.savefig(\"SVM_LearningCurve.png\")\n",
    "plt.show()"
   ]
  },
  {
   "cell_type": "code",
   "execution_count": 11,
   "id": "9ef54ca8",
   "metadata": {
    "execution": {
     "iopub.execute_input": "2024-03-14T07:58:21.304450Z",
     "iopub.status.busy": "2024-03-14T07:58:21.303764Z",
     "iopub.status.idle": "2024-03-14T08:02:24.093538Z",
     "shell.execute_reply": "2024-03-14T08:02:24.092398Z"
    },
    "papermill": {
     "duration": 242.804012,
     "end_time": "2024-03-14T08:02:24.095845",
     "exception": false,
     "start_time": "2024-03-14T07:58:21.291833",
     "status": "completed"
    },
    "tags": []
   },
   "outputs": [
    {
     "name": "stdout",
     "output_type": "stream",
     "text": [
      "0.7125985006078499 51\n"
     ]
    },
    {
     "data": {
      "image/png": "[encoded data removed]",
      "text/plain": [
       "<Figure size 2000x500 with 1 Axes>"
      ]
     },
     "metadata": {},
     "output_type": "display_data"
    }
   ],
   "source": [
    "score3 = []\n",
    "for i in range(0,100,10):\n",
    "    rfc = RFC(n_estimators=i+1, random_state=42)\n",
    "    score = cross_val_score(rfc,data_e,labels,cv=5).mean()\n",
    "    score3.append(score)\n",
    "    \n",
    "print(max(score3),(score3.index(max(score3))*10)+1)\n",
    "plt.figure(figsize=[20,5])\n",
    "plt.plot(range(1,101,10),score3)\n",
    "plt.savefig('RF_LearningCurve.png')\n",
    "plt.show()"
   ]
  },
  {
   "cell_type": "code",
   "execution_count": 12,
   "id": "261e7691",
   "metadata": {
    "execution": {
     "iopub.execute_input": "2024-03-14T08:02:24.117982Z",
     "iopub.status.busy": "2024-03-14T08:02:24.116994Z",
     "iopub.status.idle": "2024-03-14T08:02:24.124105Z",
     "shell.execute_reply": "2024-03-14T08:02:24.123211Z"
    },
    "papermill": {
     "duration": 0.020103,
     "end_time": "2024-03-14T08:02:24.126178",
     "exception": false,
     "start_time": "2024-03-14T08:02:24.106075",
     "status": "completed"
    },
    "tags": []
   },
   "outputs": [],
   "source": [
    "model_XGB = XGBClassifier(n_estimators=11, random_state=42)\n",
    "model_SVM = svm.SVC(C=30, random_state=42)\n",
    "model_RF = RFC(n_estimators=50, random_state=42)"
   ]
  },
  {
   "cell_type": "code",
   "execution_count": 13,
   "id": "6017b832",
   "metadata": {
    "execution": {
     "iopub.execute_input": "2024-03-14T08:02:24.147867Z",
     "iopub.status.busy": "2024-03-14T08:02:24.147087Z",
     "iopub.status.idle": "2024-03-14T08:02:24.155875Z",
     "shell.execute_reply": "2024-03-14T08:02:24.155124Z"
    },
    "papermill": {
     "duration": 0.021579,
     "end_time": "2024-03-14T08:02:24.157788",
     "exception": false,
     "start_time": "2024-03-14T08:02:24.136209",
     "status": "completed"
    },
    "tags": []
   },
   "outputs": [],
   "source": [
    "from sklearn.metrics import classification_report, roc_auc_score, accuracy_score\n",
    "\n",
    "def model_training(models, datas, model_name, data_name, save=False):\n",
    "    X_train, X_test, y_train, y_test = dataset_split(datas[data_name], labels)\n",
    "    model = models[model_name]\n",
    "    model.fit(X_train, y_train)\n",
    "    if model_name != 'SVM':\n",
    "        y_prob = model.predict_proba(X_test)[:,1]  # Take the probability that prediction is class 1\n",
    "    else:\n",
    "        y_prob = model.predict(X_test)\n",
    "    y_pred = np.where(y_prob > 0.5, 1, 0)\n",
    "    \n",
    "    auc_roc = roc_auc_score(y_test, y_prob)\n",
    "    target_names = ['No Disaster', 'Disaster']\n",
    "    classreport = classification_report(y_test, y_pred, target_names=target_names)\n",
    "    print(classification_report)\n",
    "    print(\"Model: {}, Data: {}, AUC = {}\".format(model_name, data_name, auc_roc))\n",
    "    \n",
    "    if save == True:\n",
    "        pd.DataFrame(classreport).to_csv(\"{}_{}_classreport.csv\".format(model_name, data_name))\n",
    "    \n",
    "    return model, classreport"
   ]
  },
  {
   "cell_type": "code",
   "execution_count": 14,
   "id": "20df8fae",
   "metadata": {
    "execution": {
     "iopub.execute_input": "2024-03-14T08:02:24.178867Z",
     "iopub.status.busy": "2024-03-14T08:02:24.178491Z",
     "iopub.status.idle": "2024-03-14T08:02:24.184577Z",
     "shell.execute_reply": "2024-03-14T08:02:24.183575Z"
    },
    "papermill": {
     "duration": 0.018976,
     "end_time": "2024-03-14T08:02:24.186593",
     "exception": false,
     "start_time": "2024-03-14T08:02:24.167617",
     "status": "completed"
    },
    "tags": []
   },
   "outputs": [],
   "source": [
    "def get_prediction(model, testset, model_name, data_name, save=False):\n",
    "    y_prob = model.predict(testset[data_name])\n",
    "    y_pred = np.where(y_prob > 0.5, 1, 0)\n",
    "    print(y_pred.shape)\n",
    "    \n",
    "    if save == True:\n",
    "        pd.DataFrame(y_pred).to_csv(\"{}_{}_prediction.csv\".format(model_name, data_name))\n",
    "    \n",
    "    return y_pred"
   ]
  },
  {
   "cell_type": "markdown",
   "id": "6601dc5c",
   "metadata": {
    "papermill": {
     "duration": 0.009432,
     "end_time": "2024-03-14T08:02:24.205661",
     "exception": false,
     "start_time": "2024-03-14T08:02:24.196229",
     "status": "completed"
    },
    "tags": []
   },
   "source": [
    "# 3 Predictions"
   ]
  },
  {
   "cell_type": "code",
   "execution_count": 15,
   "id": "adecb554",
   "metadata": {
    "execution": {
     "iopub.execute_input": "2024-03-14T08:02:24.226070Z",
     "iopub.status.busy": "2024-03-14T08:02:24.225684Z",
     "iopub.status.idle": "2024-03-14T08:02:24.232808Z",
     "shell.execute_reply": "2024-03-14T08:02:24.231545Z"
    },
    "papermill": {
     "duration": 0.019686,
     "end_time": "2024-03-14T08:02:24.234704",
     "exception": false,
     "start_time": "2024-03-14T08:02:24.215018",
     "status": "completed"
    },
    "tags": []
   },
   "outputs": [],
   "source": [
    "models = {\n",
    "    'XGBoost': model_XGB,\n",
    "    'SVM': model_SVM,\n",
    "    'Random Forest': model_RF\n",
    "}\n",
    "\n",
    "datas = {\n",
    "    'penn_tokens': data_e,\n",
    "    'punct_tokens': data_u,\n",
    "    'space_tokens': data_s\n",
    "}\n",
    "\n",
    "testsets = {\n",
    "    'penn_tokens': test_e,\n",
    "    'punct_tokens': test_u,\n",
    "    'space_tokens': test_s\n",
    "}\n",
    "\n",
    "model_name = models.keys()\n",
    "data_name = datas.keys()\n",
    "testset_name = testsets.keys()"
   ]
  },
  {
   "cell_type": "markdown",
   "id": "cd29c940",
   "metadata": {
    "papermill": {
     "duration": 0.009386,
     "end_time": "2024-03-14T08:02:24.253540",
     "exception": false,
     "start_time": "2024-03-14T08:02:24.244154",
     "status": "completed"
    },
    "tags": []
   },
   "source": [
    "## 3.1 SVM"
   ]
  },
  {
   "cell_type": "code",
   "execution_count": 16,
   "id": "50574a12",
   "metadata": {
    "execution": {
     "iopub.execute_input": "2024-03-14T08:02:24.274264Z",
     "iopub.status.busy": "2024-03-14T08:02:24.273842Z",
     "iopub.status.idle": "2024-03-14T08:02:34.568960Z",
     "shell.execute_reply": "2024-03-14T08:02:34.567759Z"
    },
    "papermill": {
     "duration": 10.30809,
     "end_time": "2024-03-14T08:02:34.570944",
     "exception": false,
     "start_time": "2024-03-14T08:02:24.262854",
     "status": "completed"
    },
    "tags": []
   },
   "outputs": [
    {
     "name": "stdout",
     "output_type": "stream",
     "text": [
      "Features of training set: shape = (6090, 300)\n",
      "Features of validation set: shape = (1523, 300)\n",
      "Labels of training set: shape = 6090\n",
      "Labels of validation set: shape = 1523\n",
      "<function classification_report at 0x7ea985bf5900>\n",
      "Model: SVM, Data: penn_tokens, AUC = 0.7361219337618515\n",
      "              precision    recall  f1-score   support\n",
      "\n",
      " No Disaster       0.74      0.89      0.81       874\n",
      "    Disaster       0.79      0.59      0.67       649\n",
      "\n",
      "    accuracy                           0.76      1523\n",
      "   macro avg       0.77      0.74      0.74      1523\n",
      "weighted avg       0.76      0.76      0.75      1523\n",
      "\n",
      "SVC(C=30, random_state=42)\n",
      "(3263,)\n"
     ]
    }
   ],
   "source": [
    "modelname = 'SVM'\n",
    "tokenname = 'penn_tokens'\n",
    "\n",
    "model, classreport = model_training(models, datas, modelname, tokenname, save=False)\n",
    "print(classreport)\n",
    "print(model)\n",
    "y_pred = get_prediction(model, testsets, modelname, tokenname, save=True)"
   ]
  },
  {
   "cell_type": "code",
   "execution_count": 17,
   "id": "554ef920",
   "metadata": {
    "execution": {
     "iopub.execute_input": "2024-03-14T08:02:34.592992Z",
     "iopub.status.busy": "2024-03-14T08:02:34.592622Z",
     "iopub.status.idle": "2024-03-14T08:02:44.409163Z",
     "shell.execute_reply": "2024-03-14T08:02:44.408417Z"
    },
    "papermill": {
     "duration": 9.829872,
     "end_time": "2024-03-14T08:02:44.411440",
     "exception": false,
     "start_time": "2024-03-14T08:02:34.581568",
     "status": "completed"
    },
    "tags": []
   },
   "outputs": [
    {
     "name": "stdout",
     "output_type": "stream",
     "text": [
      "Features of training set: shape = (6090, 300)\n",
      "Features of validation set: shape = (1523, 300)\n",
      "Labels of training set: shape = 6090\n",
      "Labels of validation set: shape = 1523\n",
      "<function classification_report at 0x7ea985bf5900>\n",
      "Model: SVM, Data: punct_tokens, AUC = 0.7361448523163607\n",
      "              precision    recall  f1-score   support\n",
      "\n",
      " No Disaster       0.74      0.88      0.81       874\n",
      "    Disaster       0.79      0.59      0.67       649\n",
      "\n",
      "    accuracy                           0.76      1523\n",
      "   macro avg       0.77      0.74      0.74      1523\n",
      "weighted avg       0.76      0.76      0.75      1523\n",
      "\n",
      "SVC(C=30, random_state=42)\n",
      "(3263,)\n"
     ]
    }
   ],
   "source": [
    "modelname = 'SVM'\n",
    "tokenname = 'punct_tokens'\n",
    "\n",
    "model, classreport = model_training(models, datas, modelname, tokenname, save=False)\n",
    "print(classreport)\n",
    "print(model)\n",
    "y_pred = get_prediction(model, testsets, modelname, tokenname, save=True)"
   ]
  },
  {
   "cell_type": "code",
   "execution_count": 18,
   "id": "237fb677",
   "metadata": {
    "execution": {
     "iopub.execute_input": "2024-03-14T08:02:44.434223Z",
     "iopub.status.busy": "2024-03-14T08:02:44.433825Z",
     "iopub.status.idle": "2024-03-14T08:02:54.345952Z",
     "shell.execute_reply": "2024-03-14T08:02:54.345073Z"
    },
    "papermill": {
     "duration": 9.92604,
     "end_time": "2024-03-14T08:02:54.348005",
     "exception": false,
     "start_time": "2024-03-14T08:02:44.421965",
     "status": "completed"
    },
    "tags": []
   },
   "outputs": [
    {
     "name": "stdout",
     "output_type": "stream",
     "text": [
      "Features of training set: shape = (6090, 300)\n",
      "Features of validation set: shape = (1523, 300)\n",
      "Labels of training set: shape = 6090\n",
      "Labels of validation set: shape = 1523\n",
      "<function classification_report at 0x7ea985bf5900>\n",
      "Model: SVM, Data: space_tokens, AUC = 0.7233298544142899\n",
      "              precision    recall  f1-score   support\n",
      "\n",
      " No Disaster       0.73      0.90      0.81       874\n",
      "    Disaster       0.81      0.54      0.65       649\n",
      "\n",
      "    accuracy                           0.75      1523\n",
      "   macro avg       0.77      0.72      0.73      1523\n",
      "weighted avg       0.76      0.75      0.74      1523\n",
      "\n",
      "SVC(C=30, random_state=42)\n",
      "(3263,)\n"
     ]
    }
   ],
   "source": [
    "modelname = 'SVM'\n",
    "tokenname = 'space_tokens'\n",
    "\n",
    "model, classreport = model_training(models, datas, modelname, tokenname, save=False)\n",
    "print(classreport)\n",
    "print(model)\n",
    "y_pred = get_prediction(model, testsets, modelname, tokenname, save=True)"
   ]
  },
  {
   "cell_type": "markdown",
   "id": "9a6e35aa",
   "metadata": {
    "papermill": {
     "duration": 0.010001,
     "end_time": "2024-03-14T08:02:54.368868",
     "exception": false,
     "start_time": "2024-03-14T08:02:54.358867",
     "status": "completed"
    },
    "tags": []
   },
   "source": [
    "## 3.2 XGBoost"
   ]
  },
  {
   "cell_type": "code",
   "execution_count": 19,
   "id": "0fa46c56",
   "metadata": {
    "execution": {
     "iopub.execute_input": "2024-03-14T08:02:54.391442Z",
     "iopub.status.busy": "2024-03-14T08:02:54.390534Z",
     "iopub.status.idle": "2024-03-14T08:02:55.361605Z",
     "shell.execute_reply": "2024-03-14T08:02:55.360757Z"
    },
    "papermill": {
     "duration": 0.985084,
     "end_time": "2024-03-14T08:02:55.364036",
     "exception": false,
     "start_time": "2024-03-14T08:02:54.378952",
     "status": "completed"
    },
    "tags": []
   },
   "outputs": [
    {
     "name": "stdout",
     "output_type": "stream",
     "text": [
      "Features of training set: shape = (6090, 300)\n",
      "Features of validation set: shape = (1523, 300)\n",
      "Labels of training set: shape = 6090\n",
      "Labels of validation set: shape = 1523\n",
      "<function classification_report at 0x7ea985bf5900>\n",
      "Model: XGBoost, Data: penn_tokens, AUC = 0.7837352307545846\n",
      "              precision    recall  f1-score   support\n",
      "\n",
      " No Disaster       0.74      0.86      0.80       874\n",
      "    Disaster       0.76      0.60      0.67       649\n",
      "\n",
      "    accuracy                           0.75      1523\n",
      "   macro avg       0.75      0.73      0.73      1523\n",
      "weighted avg       0.75      0.75      0.74      1523\n",
      "\n",
      "XGBClassifier(base_score=None, booster=None, callbacks=None,\n",
      "              colsample_bylevel=None, colsample_bynode=None,\n",
      "              colsample_bytree=None, device=None, early_stopping_rounds=None,\n",
      "              enable_categorical=False, eval_metric=None, feature_types=None,\n",
      "              gamma=None, grow_policy=None, importance_type=None,\n",
      "              interaction_constraints=None, learning_rate=None, max_bin=None,\n",
      "              max_cat_threshold=None, max_cat_to_onehot=None,\n",
      "              max_delta_step=None, max_depth=None, max_leaves=None,\n",
      "              min_child_weight=None, missing=nan, monotone_constraints=None,\n",
      "              multi_strategy=None, n_estimators=11, n_jobs=None,\n",
      "              num_parallel_tree=None, random_state=42, ...)\n",
      "(3263,)\n"
     ]
    }
   ],
   "source": [
    "modelname = 'XGBoost'\n",
    "tokenname = 'penn_tokens'\n",
    "\n",
    "model, classreport = model_training(models, datas, modelname, tokenname, save=False)\n",
    "print(classreport)\n",
    "print(model)\n",
    "y_pred = get_prediction(model, testsets, modelname, tokenname, save=True)"
   ]
  },
  {
   "cell_type": "code",
   "execution_count": 20,
   "id": "4f8def67",
   "metadata": {
    "execution": {
     "iopub.execute_input": "2024-03-14T08:02:55.387518Z",
     "iopub.status.busy": "2024-03-14T08:02:55.386571Z",
     "iopub.status.idle": "2024-03-14T08:02:56.349158Z",
     "shell.execute_reply": "2024-03-14T08:02:56.347977Z"
    },
    "papermill": {
     "duration": 0.977102,
     "end_time": "2024-03-14T08:02:56.351701",
     "exception": false,
     "start_time": "2024-03-14T08:02:55.374599",
     "status": "completed"
    },
    "tags": []
   },
   "outputs": [
    {
     "name": "stdout",
     "output_type": "stream",
     "text": [
      "Features of training set: shape = (6090, 300)\n",
      "Features of validation set: shape = (1523, 300)\n",
      "Labels of training set: shape = 6090\n",
      "Labels of validation set: shape = 1523\n",
      "<function classification_report at 0x7ea985bf5900>\n",
      "Model: XGBoost, Data: punct_tokens, AUC = 0.7954818714233833\n",
      "              precision    recall  f1-score   support\n",
      "\n",
      " No Disaster       0.74      0.83      0.78       874\n",
      "    Disaster       0.72      0.61      0.66       649\n",
      "\n",
      "    accuracy                           0.74      1523\n",
      "   macro avg       0.73      0.72      0.72      1523\n",
      "weighted avg       0.73      0.74      0.73      1523\n",
      "\n",
      "XGBClassifier(base_score=None, booster=None, callbacks=None,\n",
      "              colsample_bylevel=None, colsample_bynode=None,\n",
      "              colsample_bytree=None, device=None, early_stopping_rounds=None,\n",
      "              enable_categorical=False, eval_metric=None, feature_types=None,\n",
      "              gamma=None, grow_policy=None, importance_type=None,\n",
      "              interaction_constraints=None, learning_rate=None, max_bin=None,\n",
      "              max_cat_threshold=None, max_cat_to_onehot=None,\n",
      "              max_delta_step=None, max_depth=None, max_leaves=None,\n",
      "              min_child_weight=None, missing=nan, monotone_constraints=None,\n",
      "              multi_strategy=None, n_estimators=11, n_jobs=None,\n",
      "              num_parallel_tree=None, random_state=42, ...)\n",
      "(3263,)\n"
     ]
    }
   ],
   "source": [
    "modelname = 'XGBoost'\n",
    "tokenname = 'punct_tokens'\n",
    "\n",
    "model, classreport = model_training(models, datas, modelname, tokenname, save=False)\n",
    "print(classreport)\n",
    "print(model)\n",
    "y_pred = get_prediction(model, testsets, modelname, tokenname, save=True)"
   ]
  },
  {
   "cell_type": "code",
   "execution_count": 21,
   "id": "45331c59",
   "metadata": {
    "execution": {
     "iopub.execute_input": "2024-03-14T08:02:56.375492Z",
     "iopub.status.busy": "2024-03-14T08:02:56.374766Z",
     "iopub.status.idle": "2024-03-14T08:02:57.273823Z",
     "shell.execute_reply": "2024-03-14T08:02:57.272666Z"
    },
    "papermill": {
     "duration": 0.913828,
     "end_time": "2024-03-14T08:02:57.276255",
     "exception": false,
     "start_time": "2024-03-14T08:02:56.362427",
     "status": "completed"
    },
    "tags": []
   },
   "outputs": [
    {
     "name": "stdout",
     "output_type": "stream",
     "text": [
      "Features of training set: shape = (6090, 300)\n",
      "Features of validation set: shape = (1523, 300)\n",
      "Labels of training set: shape = 6090\n",
      "Labels of validation set: shape = 1523\n",
      "<function classification_report at 0x7ea985bf5900>\n",
      "Model: XGBoost, Data: space_tokens, AUC = 0.7745616385708695\n",
      "              precision    recall  f1-score   support\n",
      "\n",
      " No Disaster       0.73      0.84      0.79       874\n",
      "    Disaster       0.74      0.59      0.65       649\n",
      "\n",
      "    accuracy                           0.74      1523\n",
      "   macro avg       0.74      0.72      0.72      1523\n",
      "weighted avg       0.74      0.74      0.73      1523\n",
      "\n",
      "XGBClassifier(base_score=None, booster=None, callbacks=None,\n",
      "              colsample_bylevel=None, colsample_bynode=None,\n",
      "              colsample_bytree=None, device=None, early_stopping_rounds=None,\n",
      "              enable_categorical=False, eval_metric=None, feature_types=None,\n",
      "              gamma=None, grow_policy=None, importance_type=None,\n",
      "              interaction_constraints=None, learning_rate=None, max_bin=None,\n",
      "              max_cat_threshold=None, max_cat_to_onehot=None,\n",
      "              max_delta_step=None, max_depth=None, max_leaves=None,\n",
      "              min_child_weight=None, missing=nan, monotone_constraints=None,\n",
      "              multi_strategy=None, n_estimators=11, n_jobs=None,\n",
      "              num_parallel_tree=None, random_state=42, ...)\n",
      "(3263,)\n"
     ]
    }
   ],
   "source": [
    "modelname = 'XGBoost'\n",
    "tokenname = 'space_tokens'\n",
    "\n",
    "model, classreport = model_training(models, datas, modelname, tokenname, save=False)\n",
    "print(classreport)\n",
    "print(model)\n",
    "y_pred = get_prediction(model, testsets, modelname, tokenname, save=True)"
   ]
  },
  {
   "cell_type": "markdown",
   "id": "207ba4cc",
   "metadata": {
    "papermill": {
     "duration": 0.073562,
     "end_time": "2024-03-14T08:02:57.360803",
     "exception": false,
     "start_time": "2024-03-14T08:02:57.287241",
     "status": "completed"
    },
    "tags": []
   },
   "source": [
    "## 3.3 Random Forest"
   ]
  },
  {
   "cell_type": "code",
   "execution_count": 22,
   "id": "a178d69c",
   "metadata": {
    "execution": {
     "iopub.execute_input": "2024-03-14T08:02:57.384648Z",
     "iopub.status.busy": "2024-03-14T08:02:57.384221Z",
     "iopub.status.idle": "2024-03-14T08:03:02.702311Z",
     "shell.execute_reply": "2024-03-14T08:03:02.701206Z"
    },
    "papermill": {
     "duration": 5.333045,
     "end_time": "2024-03-14T08:03:02.704721",
     "exception": false,
     "start_time": "2024-03-14T08:02:57.371676",
     "status": "completed"
    },
    "tags": []
   },
   "outputs": [
    {
     "name": "stdout",
     "output_type": "stream",
     "text": [
      "Features of training set: shape = (6090, 300)\n",
      "Features of validation set: shape = (1523, 300)\n",
      "Labels of training set: shape = 6090\n",
      "Labels of validation set: shape = 1523\n",
      "<function classification_report at 0x7ea985bf5900>\n",
      "Model: Random Forest, Data: penn_tokens, AUC = 0.7893361728834715\n",
      "              precision    recall  f1-score   support\n",
      "\n",
      " No Disaster       0.75      0.84      0.79       874\n",
      "    Disaster       0.75      0.62      0.68       649\n",
      "\n",
      "    accuracy                           0.75      1523\n",
      "   macro avg       0.75      0.73      0.74      1523\n",
      "weighted avg       0.75      0.75      0.74      1523\n",
      "\n",
      "RandomForestClassifier(n_estimators=50, random_state=42)\n",
      "(3263,)\n"
     ]
    }
   ],
   "source": [
    "modelname = 'Random Forest'\n",
    "tokenname = 'penn_tokens'\n",
    "\n",
    "model, classreport = model_training(models, datas, modelname, tokenname, save=False)\n",
    "print(classreport)\n",
    "print(model)\n",
    "y_pred = get_prediction(model, testsets, modelname, tokenname, save=True)"
   ]
  },
  {
   "cell_type": "code",
   "execution_count": 23,
   "id": "598f3937",
   "metadata": {
    "execution": {
     "iopub.execute_input": "2024-03-14T08:03:02.729416Z",
     "iopub.status.busy": "2024-03-14T08:03:02.728331Z",
     "iopub.status.idle": "2024-03-14T08:03:08.110507Z",
     "shell.execute_reply": "2024-03-14T08:03:08.109419Z"
    },
    "papermill": {
     "duration": 5.396638,
     "end_time": "2024-03-14T08:03:08.112677",
     "exception": false,
     "start_time": "2024-03-14T08:03:02.716039",
     "status": "completed"
    },
    "tags": []
   },
   "outputs": [
    {
     "name": "stdout",
     "output_type": "stream",
     "text": [
      "Features of training set: shape = (6090, 300)\n",
      "Features of validation set: shape = (1523, 300)\n",
      "Labels of training set: shape = 6090\n",
      "Labels of validation set: shape = 1523\n",
      "<function classification_report at 0x7ea985bf5900>\n",
      "Model: Random Forest, Data: punct_tokens, AUC = 0.7798646394911375\n",
      "              precision    recall  f1-score   support\n",
      "\n",
      " No Disaster       0.75      0.83      0.79       874\n",
      "    Disaster       0.73      0.62      0.67       649\n",
      "\n",
      "    accuracy                           0.74      1523\n",
      "   macro avg       0.74      0.73      0.73      1523\n",
      "weighted avg       0.74      0.74      0.74      1523\n",
      "\n",
      "RandomForestClassifier(n_estimators=50, random_state=42)\n",
      "(3263,)\n"
     ]
    }
   ],
   "source": [
    "modelname = 'Random Forest'\n",
    "tokenname = 'punct_tokens'\n",
    "\n",
    "model, classreport = model_training(models, datas, modelname, tokenname, save=False)\n",
    "print(classreport)\n",
    "print(model)\n",
    "y_pred = get_prediction(model, testsets, modelname, tokenname, save=True)"
   ]
  },
  {
   "cell_type": "code",
   "execution_count": 24,
   "id": "4b108985",
   "metadata": {
    "execution": {
     "iopub.execute_input": "2024-03-14T08:03:08.138345Z",
     "iopub.status.busy": "2024-03-14T08:03:08.137362Z",
     "iopub.status.idle": "2024-03-14T08:03:13.659513Z",
     "shell.execute_reply": "2024-03-14T08:03:13.658242Z"
    },
    "papermill": {
     "duration": 5.537948,
     "end_time": "2024-03-14T08:03:13.662123",
     "exception": false,
     "start_time": "2024-03-14T08:03:08.124175",
     "status": "completed"
    },
    "tags": []
   },
   "outputs": [
    {
     "name": "stdout",
     "output_type": "stream",
     "text": [
      "Features of training set: shape = (6090, 300)\n",
      "Features of validation set: shape = (1523, 300)\n",
      "Labels of training set: shape = 6090\n",
      "Labels of validation set: shape = 1523\n",
      "<function classification_report at 0x7ea985bf5900>\n",
      "Model: Random Forest, Data: space_tokens, AUC = 0.7663444552964779\n",
      "              precision    recall  f1-score   support\n",
      "\n",
      " No Disaster       0.73      0.84      0.78       874\n",
      "    Disaster       0.73      0.58      0.65       649\n",
      "\n",
      "    accuracy                           0.73      1523\n",
      "   macro avg       0.73      0.71      0.71      1523\n",
      "weighted avg       0.73      0.73      0.72      1523\n",
      "\n",
      "RandomForestClassifier(n_estimators=50, random_state=42)\n",
      "(3263,)\n"
     ]
    }
   ],
   "source": [
    "modelname = 'Random Forest'\n",
    "tokenname = 'space_tokens'\n",
    "\n",
    "model, classreport = model_training(models, datas, modelname, tokenname, save=False)\n",
    "print(classreport)\n",
    "print(model)\n",
    "y_pred = get_prediction(model, testsets, modelname, tokenname, save=True)"
   ]
  },
  {
   "cell_type": "code",
   "execution_count": null,
   "id": "22498076",
   "metadata": {
    "papermill": {
     "duration": 0.011096,
     "end_time": "2024-03-14T08:03:13.684811",
     "exception": false,
     "start_time": "2024-03-14T08:03:13.673715",
     "status": "completed"
    },
    "tags": []
   },
   "outputs": [],
   "source": []
  }
 ],
 "metadata": {
  "kaggle": {
   "accelerator": "none",
   "dataSources": [
    {
     "databundleVersionId": 869809,
     "sourceId": 17777,
     "sourceType": "competition"
    },
    {
     "datasetId": 4588558,
     "sourceId": 7829732,
     "sourceType": "datasetVersion"
    },
    {
     "datasetId": 4588668,
     "sourceId": 7829903,
     "sourceType": "datasetVersion"
    }
   ],
   "dockerImageVersionId": 30664,
   "isGpuEnabled": false,
   "isInternetEnabled": true,
   "language": "python",
   "sourceType": "notebook"
  },
  "kernelspec": {
   "display_name": "Python 3",
   "language": "python",
   "name": "python3"
  },
  "language_info": {
   "codemirror_mode": {
    "name": "ipython",
    "version": 3
   },
   "file_extension": ".py",
   "mimetype": "text/x-python",
   "name": "python",
   "nbconvert_exporter": "python",
   "pygments_lexer": "ipython3",
   "version": "3.10.13"
  },
  "papermill": {
   "default_parameters": {},
   "duration": 2094.152273,
   "end_time": "2024-03-14T08:03:14.521404",
   "environment_variables": {},
   "exception": null,
   "input_path": "__notebook__.ipynb",
   "output_path": "__notebook__.ipynb",
   "parameters": {},
   "start_time": "2024-03-14T07:28:20.369131",
   "version": "2.5.0"
  }
 },
 "nbformat": 4,
 "nbformat_minor": 5
}
